{
 "cells": [
  {
   "cell_type": "code",
   "execution_count": 1,
   "id": "81ebdb78",
   "metadata": {},
   "outputs": [],
   "source": [
    "import pandas as pd"
   ]
  },
  {
   "cell_type": "code",
   "execution_count": 2,
   "id": "724becc8",
   "metadata": {},
   "outputs": [
    {
     "data": {
      "text/html": [
       "<div>\n",
       "<style scoped>\n",
       "    .dataframe tbody tr th:only-of-type {\n",
       "        vertical-align: middle;\n",
       "    }\n",
       "\n",
       "    .dataframe tbody tr th {\n",
       "        vertical-align: top;\n",
       "    }\n",
       "\n",
       "    .dataframe thead th {\n",
       "        text-align: right;\n",
       "    }\n",
       "</style>\n",
       "<table border=\"1\" class=\"dataframe\">\n",
       "  <thead>\n",
       "    <tr style=\"text-align: right;\">\n",
       "      <th></th>\n",
       "      <th>date</th>\n",
       "      <th>date_block_num</th>\n",
       "      <th>shop_id</th>\n",
       "      <th>item_id</th>\n",
       "      <th>item_price</th>\n",
       "      <th>item_cnt_day</th>\n",
       "      <th>item_category_id</th>\n",
       "      <th>revenue</th>\n",
       "      <th>year_month</th>\n",
       "    </tr>\n",
       "  </thead>\n",
       "  <tbody>\n",
       "    <tr>\n",
       "      <th>0</th>\n",
       "      <td>2013-01-02</td>\n",
       "      <td>0</td>\n",
       "      <td>59</td>\n",
       "      <td>22154</td>\n",
       "      <td>999.0</td>\n",
       "      <td>1.0</td>\n",
       "      <td>37</td>\n",
       "      <td>999.0</td>\n",
       "      <td>2013-01</td>\n",
       "    </tr>\n",
       "    <tr>\n",
       "      <th>1</th>\n",
       "      <td>2013-01-23</td>\n",
       "      <td>0</td>\n",
       "      <td>24</td>\n",
       "      <td>22154</td>\n",
       "      <td>999.0</td>\n",
       "      <td>1.0</td>\n",
       "      <td>37</td>\n",
       "      <td>999.0</td>\n",
       "      <td>2013-01</td>\n",
       "    </tr>\n",
       "    <tr>\n",
       "      <th>2</th>\n",
       "      <td>2013-01-20</td>\n",
       "      <td>0</td>\n",
       "      <td>27</td>\n",
       "      <td>22154</td>\n",
       "      <td>999.0</td>\n",
       "      <td>1.0</td>\n",
       "      <td>37</td>\n",
       "      <td>999.0</td>\n",
       "      <td>2013-01</td>\n",
       "    </tr>\n",
       "    <tr>\n",
       "      <th>3</th>\n",
       "      <td>2013-01-02</td>\n",
       "      <td>0</td>\n",
       "      <td>25</td>\n",
       "      <td>22154</td>\n",
       "      <td>999.0</td>\n",
       "      <td>1.0</td>\n",
       "      <td>37</td>\n",
       "      <td>999.0</td>\n",
       "      <td>2013-01</td>\n",
       "    </tr>\n",
       "    <tr>\n",
       "      <th>4</th>\n",
       "      <td>2013-01-03</td>\n",
       "      <td>0</td>\n",
       "      <td>25</td>\n",
       "      <td>22154</td>\n",
       "      <td>999.0</td>\n",
       "      <td>1.0</td>\n",
       "      <td>37</td>\n",
       "      <td>999.0</td>\n",
       "      <td>2013-01</td>\n",
       "    </tr>\n",
       "    <tr>\n",
       "      <th>...</th>\n",
       "      <td>...</td>\n",
       "      <td>...</td>\n",
       "      <td>...</td>\n",
       "      <td>...</td>\n",
       "      <td>...</td>\n",
       "      <td>...</td>\n",
       "      <td>...</td>\n",
       "      <td>...</td>\n",
       "      <td>...</td>\n",
       "    </tr>\n",
       "    <tr>\n",
       "      <th>2935844</th>\n",
       "      <td>2015-10-17</td>\n",
       "      <td>33</td>\n",
       "      <td>25</td>\n",
       "      <td>8428</td>\n",
       "      <td>249.0</td>\n",
       "      <td>1.0</td>\n",
       "      <td>40</td>\n",
       "      <td>249.0</td>\n",
       "      <td>2015-10</td>\n",
       "    </tr>\n",
       "    <tr>\n",
       "      <th>2935845</th>\n",
       "      <td>2015-10-01</td>\n",
       "      <td>33</td>\n",
       "      <td>25</td>\n",
       "      <td>7903</td>\n",
       "      <td>12198.0</td>\n",
       "      <td>1.0</td>\n",
       "      <td>15</td>\n",
       "      <td>12198.0</td>\n",
       "      <td>2015-10</td>\n",
       "    </tr>\n",
       "    <tr>\n",
       "      <th>2935846</th>\n",
       "      <td>2015-10-29</td>\n",
       "      <td>33</td>\n",
       "      <td>25</td>\n",
       "      <td>7610</td>\n",
       "      <td>2890.0</td>\n",
       "      <td>1.0</td>\n",
       "      <td>64</td>\n",
       "      <td>2890.0</td>\n",
       "      <td>2015-10</td>\n",
       "    </tr>\n",
       "    <tr>\n",
       "      <th>2935847</th>\n",
       "      <td>2015-10-22</td>\n",
       "      <td>33</td>\n",
       "      <td>25</td>\n",
       "      <td>7635</td>\n",
       "      <td>2100.0</td>\n",
       "      <td>1.0</td>\n",
       "      <td>64</td>\n",
       "      <td>2100.0</td>\n",
       "      <td>2015-10</td>\n",
       "    </tr>\n",
       "    <tr>\n",
       "      <th>2935848</th>\n",
       "      <td>2015-10-01</td>\n",
       "      <td>33</td>\n",
       "      <td>25</td>\n",
       "      <td>7640</td>\n",
       "      <td>4040.0</td>\n",
       "      <td>1.0</td>\n",
       "      <td>64</td>\n",
       "      <td>4040.0</td>\n",
       "      <td>2015-10</td>\n",
       "    </tr>\n",
       "  </tbody>\n",
       "</table>\n",
       "<p>2935849 rows × 9 columns</p>\n",
       "</div>"
      ],
      "text/plain": [
       "               date  date_block_num  shop_id  item_id  item_price   \n",
       "0        2013-01-02               0       59    22154       999.0  \\\n",
       "1        2013-01-23               0       24    22154       999.0   \n",
       "2        2013-01-20               0       27    22154       999.0   \n",
       "3        2013-01-02               0       25    22154       999.0   \n",
       "4        2013-01-03               0       25    22154       999.0   \n",
       "...             ...             ...      ...      ...         ...   \n",
       "2935844  2015-10-17              33       25     8428       249.0   \n",
       "2935845  2015-10-01              33       25     7903     12198.0   \n",
       "2935846  2015-10-29              33       25     7610      2890.0   \n",
       "2935847  2015-10-22              33       25     7635      2100.0   \n",
       "2935848  2015-10-01              33       25     7640      4040.0   \n",
       "\n",
       "         item_cnt_day  item_category_id  revenue year_month  \n",
       "0                 1.0                37    999.0    2013-01  \n",
       "1                 1.0                37    999.0    2013-01  \n",
       "2                 1.0                37    999.0    2013-01  \n",
       "3                 1.0                37    999.0    2013-01  \n",
       "4                 1.0                37    999.0    2013-01  \n",
       "...               ...               ...      ...        ...  \n",
       "2935844           1.0                40    249.0    2015-10  \n",
       "2935845           1.0                15  12198.0    2015-10  \n",
       "2935846           1.0                64   2890.0    2015-10  \n",
       "2935847           1.0                64   2100.0    2015-10  \n",
       "2935848           1.0                64   4040.0    2015-10  \n",
       "\n",
       "[2935849 rows x 9 columns]"
      ]
     },
     "execution_count": 2,
     "metadata": {},
     "output_type": "execute_result"
    }
   ],
   "source": [
    "sale = pd.read_csv('df.csv')\n",
    "sale"
   ]
  },
  {
   "cell_type": "code",
   "execution_count": 3,
   "id": "3b7ca344",
   "metadata": {},
   "outputs": [],
   "source": [
    "sale['date'] = pd.to_datetime(sale['date'])\n"
   ]
  },
  {
   "cell_type": "code",
   "execution_count": 4,
   "id": "7e804226",
   "metadata": {},
   "outputs": [],
   "source": [
    "sale['year_month'] = sale['date'].dt.strftime('%Y-%m')\n"
   ]
  },
  {
   "cell_type": "code",
   "execution_count": 5,
   "id": "bb6c9057",
   "metadata": {},
   "outputs": [],
   "source": [
    "sale['revenue'] = sale['item_price'] * sale['item_cnt_day']\n"
   ]
  },
  {
   "cell_type": "code",
   "execution_count": 6,
   "id": "1e46e56a",
   "metadata": {},
   "outputs": [],
   "source": [
    "X = sale[['date_block_num', 'shop_id', 'item_id', 'item_category_id']]\n",
    "y = sale['item_cnt_day']\n"
   ]
  },
  {
   "cell_type": "code",
   "execution_count": 7,
   "id": "a098da16",
   "metadata": {},
   "outputs": [],
   "source": [
    "from sklearn.model_selection import train_test_split\n",
    "\n",
    "X_train, X_test, y_train, y_test = train_test_split(X, y, test_size=0.2, random_state=42)\n"
   ]
  },
  {
   "cell_type": "code",
   "execution_count": 8,
   "id": "95fd511a",
   "metadata": {},
   "outputs": [],
   "source": [
    "from sklearn.linear_model import LinearRegression\n",
    "\n",
    "model = LinearRegression() \n",
    "model.fit(X_train, y_train)\n",
    "y_pred = model.predict(X_test)\n"
   ]
  },
  {
   "cell_type": "code",
   "execution_count": 9,
   "id": "af2ee7e8",
   "metadata": {},
   "outputs": [
    {
     "name": "stdout",
     "output_type": "stream",
     "text": [
      "Mean Squared Error (MSE): 4.2372\n",
      "Mean Squared Logarithmic Error (MSLE): 0.0603\n",
      "F1 Score: 0.8463\n",
      "Accuracy: 0.8956\n"
     ]
    }
   ],
   "source": [
    "import numpy as np\n",
    "from sklearn.metrics import mean_squared_error, f1_score, accuracy_score\n",
    "def convert_to_class_labels(y_pred):\n",
    "    # Convert continuous predictions to class labels based on a threshold\n",
    "    threshold = 0.5  # Adjust the threshold based on your problem\n",
    "    y_pred_class = (y_pred >= threshold).astype(int)\n",
    "    return y_pred_class\n",
    "\n",
    "# Assuming you have the true labels y_true and predicted values y_pred\n",
    "\n",
    "# Calculate mean squared error (MSE)\n",
    "mse = mean_squared_error(y_test, y_pred)\n",
    "print(\"Mean Squared Error (MSE): {:.4f}\".format(mse))\n",
    "\n",
    "# Convert the targets to non-negative values for calculating MSLE\n",
    "y_test_non_negative = np.clip(y_test, a_min=0, a_max=None)\n",
    "y_pred_non_negative = np.clip(y_pred, a_min=0, a_max=None)\n",
    "\n",
    "# Replace missing values with zero\n",
    "y_test_non_negative = np.nan_to_num(y_test_non_negative)\n",
    "y_pred_non_negative = np.nan_to_num(y_pred_non_negative)\n",
    "\n",
    "# Calculate mean squared logarithmic error (MSLE)\n",
    "msle = mean_squared_error(np.log1p(y_test_non_negative), np.log1p(y_pred_non_negative))\n",
    "print(\"Mean Squared Logarithmic Error (MSLE): {:.4f}\".format(msle))\n",
    "\n",
    "# Convert continuous predictions to class labels for classification problem\n",
    "y_pred_class = convert_to_class_labels(y_pred)  # Replace with your own code\n",
    "\n",
    "# Calculate F1 score\n",
    "f1 = f1_score(y_test, y_pred_class, average='weighted')\n",
    "print(\"F1 Score: {:.4f}\".format(f1))\n",
    "\n",
    "# Calculate accuracy\n",
    "accuracy = accuracy_score(y_test, y_pred_class)\n",
    "print(\"Accuracy: {:.4f}\".format(accuracy))\n"
   ]
  },
  {
   "cell_type": "markdown",
   "id": "f9abf1ee",
   "metadata": {},
   "source": [
    "## Feature Engineering"
   ]
  },
  {
   "cell_type": "code",
   "execution_count": 10,
   "id": "e5d72d53",
   "metadata": {},
   "outputs": [],
   "source": [
    "##Scaling and Normalization:\n",
    "from sklearn.preprocessing import MinMaxScaler\n",
    "\n",
    "scaler = MinMaxScaler()\n",
    "X_train_scaled = scaler.fit_transform(X_train)\n",
    "X_test_scaled = scaler.transform(X_test)\n"
   ]
  },
  {
   "cell_type": "markdown",
   "id": "0a98bb19",
   "metadata": {},
   "source": [
    "##  Encoding Categorical Variables:"
   ]
  },
  {
   "cell_type": "code",
   "execution_count": 11,
   "id": "c121e6ea",
   "metadata": {},
   "outputs": [],
   "source": [
    "from sklearn.preprocessing import OneHotEncoder\n",
    "encoder = OneHotEncoder(handle_unknown='ignore')\n",
    "X_train_encoded = encoder.fit_transform(X_train)\n",
    "X_test_encoded = encoder.transform(X_test)\n"
   ]
  },
  {
   "cell_type": "markdown",
   "id": "1f2e55da",
   "metadata": {},
   "source": [
    "## Model Selection:\n",
    "\n",
    "    Random Forest Classifier:\n",
    "\n"
   ]
  },
  {
   "cell_type": "code",
   "execution_count": null,
   "id": "7588fa65",
   "metadata": {},
   "outputs": [],
   "source": [
    "from sklearn.ensemble import RandomForestClassifier\n",
    "\n",
    "clf = RandomForestClassifier()\n",
    "clf.fit(X_train, y_train)\n",
    "y_pred = clf.predict(X_test)\n"
   ]
  },
  {
   "cell_type": "code",
   "execution_count": null,
   "id": "a0a7319a",
   "metadata": {},
   "outputs": [],
   "source": [
    "###Hyperparameter Tuning:"
   ]
  },
  {
   "cell_type": "code",
   "execution_count": null,
   "id": "4561983e",
   "metadata": {},
   "outputs": [],
   "source": [
    "from sklearn.model_selection import GridSearchCV\n",
    "\n",
    "param_grid = {'max_depth': [3, 5, 7], 'n_estimators': [100, 200, 300]}\n",
    "grid_search = GridSearchCV(RandomForestClassifier(), param_grid)\n",
    "grid_search.fit(X_train, y_train)\n",
    "best_params = grid_search.best_params_\n"
   ]
  },
  {
   "cell_type": "markdown",
   "id": "0c578c19",
   "metadata": {},
   "source": [
    "## Data Augmentation:\n",
    "\n",
    "    Image Data Augmentation (using Keras):\n"
   ]
  },
  {
   "cell_type": "code",
   "execution_count": null,
   "id": "312beb83",
   "metadata": {},
   "outputs": [],
   "source": [
    "from tensorflow.keras.preprocessing.image import ImageDataGenerator\n",
    "\n",
    "datagen = ImageDataGenerator(rotation_range=10, width_shift_range=0.1, height_shift_range=0.1, horizontal_flip=True)\n",
    "augmented_images = datagen.flow(X_train, y_train, batch_size=32)\n"
   ]
  },
  {
   "cell_type": "markdown",
   "id": "b6ee351b",
   "metadata": {},
   "source": [
    "## Ensemble Learning:\n",
    "\n",
    "    Voting Classifier:"
   ]
  },
  {
   "cell_type": "code",
   "execution_count": null,
   "id": "d996bcc2",
   "metadata": {},
   "outputs": [],
   "source": [
    "from sklearn.ensemble import VotingClassifier\n",
    "\n",
    "clf1 = RandomForestClassifier()\n",
    "clf2 = GradientBoostingClassifier()\n",
    "clf3 = LogisticRegression()\n",
    "\n",
    "ensemble_clf = VotingClassifier(estimators=[('rf', clf1), ('gb', clf2), ('lr', clf3)])\n",
    "ensemble_clf.fit(X_train, y_train)\n",
    "y_pred = ensemble_clf.predict(X_test)\n"
   ]
  },
  {
   "cell_type": "code",
   "execution_count": null,
   "id": "697c19a6",
   "metadata": {},
   "outputs": [],
   "source": []
  },
  {
   "cell_type": "code",
   "execution_count": null,
   "id": "c832fb28",
   "metadata": {},
   "outputs": [],
   "source": []
  },
  {
   "cell_type": "code",
   "execution_count": null,
   "id": "5f943df7",
   "metadata": {},
   "outputs": [],
   "source": []
  }
 ],
 "metadata": {
  "kernelspec": {
   "display_name": "Python 3 (ipykernel)",
   "language": "python",
   "name": "python3"
  },
  "language_info": {
   "codemirror_mode": {
    "name": "ipython",
    "version": 3
   },
   "file_extension": ".py",
   "mimetype": "text/x-python",
   "name": "python",
   "nbconvert_exporter": "python",
   "pygments_lexer": "ipython3",
   "version": "3.9.16"
  }
 },
 "nbformat": 4,
 "nbformat_minor": 5
}
